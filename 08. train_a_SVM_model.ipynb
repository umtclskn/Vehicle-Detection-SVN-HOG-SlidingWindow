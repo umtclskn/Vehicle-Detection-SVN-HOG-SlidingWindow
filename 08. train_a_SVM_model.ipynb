{
 "cells": [
  {
   "cell_type": "code",
   "execution_count": 2,
   "metadata": {},
   "outputs": [],
   "source": [
    "import matplotlib.image as mpimg\n",
    "import matplotlib.pyplot as plt\n",
    "import numpy as np\n",
    "import cv2\n",
    "import glob\n",
    "import time\n",
    "from sklearn.svm import SVC\n",
    "from sklearn.model_selection import GridSearchCV\n",
    "from sklearn.preprocessing import StandardScaler\n",
    "from skimage.feature import hog\n",
    "from sklearn.model_selection import train_test_split\n",
    "import pickle\n",
    "\n",
    "\n",
    "from utils.extract_features import extract_features"
   ]
  },
  {
   "cell_type": "code",
   "execution_count": 3,
   "metadata": {},
   "outputs": [],
   "source": [
    "vehicles_path = [\"dataset/vehicles/KITTI_extracted\", \"dataset/vehicles/Far\", \"dataset/vehicles/Left\", \"dataset/vehicles/MiddleClose\", \"dataset/vehicles/Right\"]\n",
    "non_vehicles_path  = [\"dataset/non-vehicles/Extras\", \"dataset/non-vehicles/Far\", \"dataset/non-vehicles/Left\", \"dataset/non-vehicles/MiddleClose\", \"dataset/non-vehicles/Right\"]\n",
    "\n",
    "vehicles = []\n",
    "non_vehicles = []\n",
    "\n",
    "for path in vehicles_path:\n",
    "    all_paths = glob.glob(path+'/*.png')\n",
    "    vehicles.append(all_paths)\n",
    "    \n",
    "for path in non_vehicles_path:\n",
    "    all_paths = glob.glob(path+'/*.png')\n",
    "    non_vehicles.append(all_paths)\n",
    "\n",
    "vehicles = np.hstack(vehicles)\n",
    "non_vehicles = np.hstack(non_vehicles)"
   ]
  },
  {
   "cell_type": "code",
   "execution_count": 4,
   "metadata": {},
   "outputs": [
    {
     "name": "stdout",
     "output_type": "stream",
     "text": [
      "9391\n",
      "8968\n"
     ]
    }
   ],
   "source": [
    "print(len(vehicles))\n",
    "print(len(non_vehicles))\n"
   ]
  },
  {
   "cell_type": "code",
   "execution_count": 5,
   "metadata": {},
   "outputs": [
    {
     "name": "stdout",
     "output_type": "stream",
     "text": [
      "45.66 Seconds to extract HOG features...\n"
     ]
    }
   ],
   "source": [
    "colorspace = 'YUV' # Can be RGB, HSV, LUV, HLS, YUV, YCrCb\n",
    "orient = 11\n",
    "pix_per_cell = 16\n",
    "cell_per_block = 2\n",
    "hog_channel = 'ALL' # Can be 0, 1, 2, or \"ALL\"\n",
    "\n",
    "# We use to this to see how long it takes to extract the features from the dataset\n",
    "t1 = time.time()\n",
    "\n",
    "# Pass the file_vehicle list and extract the features for cars\n",
    "vehicle_features = extract_features(vehicles, cspace=colorspace, orient=orient, \n",
    "                        pix_per_cell=pix_per_cell, cell_per_block=cell_per_block, \n",
    "                        hog_channel=hog_channel)\n",
    "# Pass the file_notvehicle\n",
    "non_vehicle_features = extract_features(non_vehicles, cspace=colorspace, orient=orient, \n",
    "                        pix_per_cell=pix_per_cell, cell_per_block=cell_per_block, \n",
    "                        hog_channel=hog_channel)\n",
    "t2 = time.time()\n",
    "print(round(t2-t1, 2), 'Seconds to extract HOG features...')"
   ]
  },
  {
   "cell_type": "code",
   "execution_count": 7,
   "metadata": {},
   "outputs": [
    {
     "name": "stdout",
     "output_type": "stream",
     "text": [
      "Feature vector size: 1188\n"
     ]
    }
   ],
   "source": [
    "# Create an array stack of feature vectors\n",
    "X = np.vstack((vehicle_features, non_vehicle_features)).astype(np.float64)    \n",
    "#X_scaler = StandardScaler().fit(X)\n",
    "#scaled_X = X_scaler.transform(X)\n",
    "    \n",
    "    \n",
    "# Define the labels vector\n",
    "y = np.hstack((np.ones(len(vehicle_features)), np.zeros(len(non_vehicle_features))))\n",
    "\n",
    "# Split up data into randomized training and test sets\n",
    "rand_state = np.random.randint(0, 100)\n",
    "X_train, X_test, y_train, y_test = train_test_split(X, y, test_size=0.2, random_state=rand_state)\n",
    "print('Feature vector size:', len(X_train[0]))"
   ]
  },
  {
   "cell_type": "code",
   "execution_count": 8,
   "metadata": {},
   "outputs": [
    {
     "name": "stdout",
     "output_type": "stream",
     "text": [
      "3.93 is the time in seconds to train\n",
      "Test Accuracy of Support Vector Machines =  0.979\n",
      "SVC prediction:  [0. 1. 0. 1. 0. 0. 0. 1. 1. 1. 1. 1. 0. 1. 0. 1. 1. 1. 0. 0. 1. 1. 1. 0.\n",
      " 1. 1. 1. 0. 0. 1. 0. 0. 0. 0. 1. 0. 1. 1. 0. 0. 1. 0. 0. 1. 1. 1. 1. 1.\n",
      " 0. 0. 0. 1. 0. 1. 1. 1. 0. 1. 1. 0. 0. 0. 0. 0. 0. 1. 1. 1. 1. 1. 1. 1.\n",
      " 0. 0. 1. 1. 0. 1. 0. 1. 1. 1. 0. 0. 0. 0. 1. 0. 0. 1. 0. 1. 1. 0. 1. 1.\n",
      " 0. 0. 0. 0.]\n",
      "Correct Predictions for 100 labels:  [0. 1. 0. 1. 0. 0. 0. 1. 1. 1. 1. 1. 0. 1. 0. 1. 1. 1. 0. 0. 1. 1. 1. 0.\n",
      " 1. 1. 1. 0. 0. 1. 0. 1. 0. 0. 1. 0. 1. 1. 0. 0. 1. 0. 0. 1. 1. 1. 1. 1.\n",
      " 0. 0. 0. 1. 0. 1. 1. 1. 0. 1. 1. 0. 0. 0. 0. 0. 0. 1. 1. 1. 1. 1. 1. 1.\n",
      " 0. 0. 1. 1. 0. 1. 0. 1. 1. 1. 0. 1. 0. 0. 1. 0. 0. 1. 0. 1. 1. 0. 1. 1.\n",
      " 0. 0. 0. 0.]\n",
      "0.002 Time ins seconds to predict 100 labels\n"
     ]
    }
   ],
   "source": [
    "from sklearn.svm import LinearSVC\n",
    "# Use a linear SVC \n",
    "svc = LinearSVC()\n",
    "\n",
    "# Check the training time for the SVC\n",
    "t1 = time.time()\n",
    "svc.fit(X_train, y_train)\n",
    "t2 = time.time()\n",
    "print(round(t2-t1, 2), 'is the time in seconds to train')\n",
    "# Check the score of the SVC\n",
    "print('Test Accuracy of Support Vector Machines = ', round(svc.score(X_test, y_test), 4))\n",
    "\n",
    "# Check the prediction time for a single sample\n",
    "t1=time.time()\n",
    "n_predict = 100\n",
    "print('SVC prediction: ', svc.predict(X_test[0:n_predict]))\n",
    "print('Correct Predictions for',n_predict, 'labels: ', y_test[0:n_predict])\n",
    "t2 = time.time()\n",
    "print(round(t2-t1, 5), 'Time ins seconds to predict', n_predict,'labels')"
   ]
  },
  {
   "cell_type": "code",
   "execution_count": 9,
   "metadata": {},
   "outputs": [
    {
     "name": "stdout",
     "output_type": "stream",
     "text": [
      "Model saved.\n"
     ]
    }
   ],
   "source": [
    "# save the SVC model to disk\n",
    "model_file_name = 'model.p'\n",
    "try:\n",
    "    with open(model_file_name, 'wb') as pfile:\n",
    "        pickle.dump(\n",
    "            {   'svc':svc\n",
    "            },\n",
    "            pfile, pickle.HIGHEST_PROTOCOL)\n",
    "except Exception as e:\n",
    "    print('Unable to save model to', model_file_name, ':', e)\n",
    "    raise\n",
    "print('Model saved.')"
   ]
  },
  {
   "cell_type": "code",
   "execution_count": 10,
   "metadata": {},
   "outputs": [
    {
     "name": "stdout",
     "output_type": "stream",
     "text": [
      "0.9790305010893247\n"
     ]
    }
   ],
   "source": [
    "# load the model from disk\n",
    "loaded_model = pickle.load(open(model_file_name, 'rb'))\n",
    "result = loaded_model['svc'].score(X_test, y_test)\n",
    "print(result)"
   ]
  },
  {
   "cell_type": "code",
   "execution_count": null,
   "metadata": {},
   "outputs": [],
   "source": []
  }
 ],
 "metadata": {
  "kernelspec": {
   "display_name": "Python 3",
   "language": "python",
   "name": "python3"
  },
  "language_info": {
   "codemirror_mode": {
    "name": "ipython",
    "version": 3
   },
   "file_extension": ".py",
   "mimetype": "text/x-python",
   "name": "python",
   "nbconvert_exporter": "python",
   "pygments_lexer": "ipython3",
   "version": "3.7.7"
  }
 },
 "nbformat": 4,
 "nbformat_minor": 4
}

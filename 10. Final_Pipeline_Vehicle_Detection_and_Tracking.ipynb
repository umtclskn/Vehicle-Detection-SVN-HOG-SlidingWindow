{
 "cells": [
  {
   "cell_type": "code",
   "execution_count": 4,
   "metadata": {},
   "outputs": [],
   "source": [
    "import numpy as np\n",
    "import pickle\n",
    "import cv2\n",
    "import glob\n",
    "import time\n",
    "\n",
    "import matplotlib.image as mpimg\n",
    "import matplotlib.pyplot as plt\n",
    "from moviepy.editor import VideoFileClip\n",
    "from IPython.display import HTML\n",
    "\n",
    "from scipy.ndimage.measurements import label\n",
    "\n",
    "from utils.draw import *\n",
    "from utils.heat_map import *\n",
    "from utils.find_cars import *"
   ]
  },
  {
   "cell_type": "code",
   "execution_count": 5,
   "metadata": {},
   "outputs": [],
   "source": [
    "colorspace = 'YUV' # Can be RGB, HSV, LUV, HLS, YUV, YCrCb\n",
    "orient = 11\n",
    "pix_per_cell = 16\n",
    "cell_per_block = 2\n",
    "hog_channel = 'ALL' # Can be 0, 1, 2, or \"ALL\""
   ]
  },
  {
   "cell_type": "code",
   "execution_count": 6,
   "metadata": {},
   "outputs": [],
   "source": [
    "model_file_name = 'model.p'\n",
    "# load the model from disk\n",
    "loaded_model = pickle.load(open(model_file_name, 'rb'))\n",
    "svc = loaded_model['svc']"
   ]
  },
  {
   "cell_type": "code",
   "execution_count": 7,
   "metadata": {},
   "outputs": [],
   "source": [
    "def pipeline(img):\n",
    "\n",
    "    rectangles = []\n",
    "\n",
    "    colorspace = 'YUV' # Can be RGB, HSV, LUV, HLS, YUV, YCrCb\n",
    "    orient = 11\n",
    "    pix_per_cell = 16\n",
    "    cell_per_block = 2\n",
    "    hog_channel = 'ALL' # Can be 0, 1, 2, or \"ALL\"\n",
    "\n",
    "\n",
    "    ystart = 380\n",
    "    ystop = 444\n",
    "    scale = 1.0\n",
    "\n",
    "\n",
    "\n",
    "    rectangles.append(find_cars(img, ystart, ystop, scale, colorspace, hog_channel, svc, None, \n",
    "                           orient, pix_per_cell, cell_per_block, None, None))\n",
    "    ystart = 400\n",
    "    ystop = 464\n",
    "    scale = 1.0\n",
    "    rectangles.append(find_cars(img, ystart, ystop, scale, colorspace, hog_channel, svc, None, \n",
    "                           orient, pix_per_cell, cell_per_block, None, None))\n",
    "    ystart = 400\n",
    "    ystop = 496\n",
    "    scale = 1.5\n",
    "    rectangles.append(find_cars(img, ystart, ystop, scale, colorspace, hog_channel, svc, None, \n",
    "                           orient, pix_per_cell, cell_per_block, None, None))\n",
    "    ystart = 432\n",
    "    ystop = 528\n",
    "    scale = 1.5\n",
    "    rectangles.append(find_cars(img, ystart, ystop, scale, colorspace, hog_channel, svc, None, \n",
    "                           orient, pix_per_cell, cell_per_block, None, None))\n",
    "    ystart = 400\n",
    "    ystop = 528\n",
    "    scale = 2.0\n",
    "    rectangles.append(find_cars(img, ystart, ystop, scale, colorspace, hog_channel, svc, None, \n",
    "                           orient, pix_per_cell, cell_per_block, None, None))\n",
    "    ystart = 432\n",
    "    ystop = 560\n",
    "    scale = 2.0\n",
    "    rectangles.append(find_cars(img, ystart, ystop, scale, colorspace, hog_channel, svc, None, \n",
    "                           orient, pix_per_cell, cell_per_block, None, None))\n",
    "    ystart = 400\n",
    "    ystop = 596\n",
    "    scale = 3.5\n",
    "    rectangles.append(find_cars(img, ystart, ystop, scale, colorspace, hog_channel, svc, None, \n",
    "                           orient, pix_per_cell, cell_per_block, None, None))\n",
    "    ystart = 464\n",
    "    ystop = 660\n",
    "    scale = 3.5\n",
    "    rectangles.append(find_cars(img, ystart, ystop, scale, colorspace, hog_channel, svc, None, \n",
    "                           orient, pix_per_cell, cell_per_block, None, None))\n",
    "\n",
    "    rectangles = [item for sublist in rectangles for item in sublist] \n",
    "    \n",
    "    heatmap_img = np.zeros_like(img[:,:,0])\n",
    "    heatmap_img = add_heat(heatmap_img, rectangles)\n",
    "    heatmap_img = apply_threshold(heatmap_img, 1)\n",
    "    labels = label(heatmap_img)\n",
    "    boxes = draw_labeled_windows(np.copy(img), labels)\n",
    "    return boxes"
   ]
  },
  {
   "cell_type": "code",
   "execution_count": 9,
   "metadata": {},
   "outputs": [
    {
     "name": "stderr",
     "output_type": "stream",
     "text": [
      "\r",
      "t:   0%|                                                                              | 0/38 [00:00<?, ?it/s, now=None]"
     ]
    },
    {
     "name": "stdout",
     "output_type": "stream",
     "text": [
      "Moviepy - Building video outputs/test_video_out.mp4.\n",
      "Moviepy - Writing video outputs/test_video_out.mp4\n",
      "\n"
     ]
    },
    {
     "name": "stderr",
     "output_type": "stream",
     "text": [
      "                                                                                                                       \r"
     ]
    },
    {
     "name": "stdout",
     "output_type": "stream",
     "text": [
      "Moviepy - Done !\n",
      "Moviepy - video ready outputs/test_video_out.mp4\n",
      "Wall time: 12.7 s\n"
     ]
    }
   ],
   "source": [
    "test_out_file = 'outputs/test_video_out.mp4'\n",
    "test_clip = VideoFileClip('inputs/test_video.mp4')\n",
    "combined_image = test_clip.fl_image(pipeline)\n",
    "%time combined_image.write_videofile(test_out_file, audio=False)"
   ]
  },
  {
   "cell_type": "code",
   "execution_count": 10,
   "metadata": {},
   "outputs": [
    {
     "data": {
      "text/html": [
       "\n",
       "<video width=\"960\" height=\"540\" controls>\n",
       "  <source src=\"outputs/test_video_out.mp4\">\n",
       "</video>\n"
      ],
      "text/plain": [
       "<IPython.core.display.HTML object>"
      ]
     },
     "execution_count": 10,
     "metadata": {},
     "output_type": "execute_result"
    }
   ],
   "source": [
    "HTML(\"\"\"\n",
    "<video width=\"960\" height=\"540\" controls>\n",
    "  <source src=\"{0}\">\n",
    "</video>\n",
    "\"\"\".format(test_out_file))"
   ]
  },
  {
   "cell_type": "code",
   "execution_count": 11,
   "metadata": {},
   "outputs": [
    {
     "name": "stderr",
     "output_type": "stream",
     "text": [
      "\r",
      "t:   0%|                                                                            | 0/1260 [00:00<?, ?it/s, now=None]"
     ]
    },
    {
     "name": "stdout",
     "output_type": "stream",
     "text": [
      "Moviepy - Building video outputs/project_out_video.mp4.\n",
      "Moviepy - Writing video outputs/project_out_video.mp4\n",
      "\n"
     ]
    },
    {
     "name": "stderr",
     "output_type": "stream",
     "text": [
      "                                                                                                                       \r"
     ]
    },
    {
     "name": "stdout",
     "output_type": "stream",
     "text": [
      "Moviepy - Done !\n",
      "Moviepy - video ready outputs/project_out_video.mp4\n",
      "Wall time: 6min 36s\n"
     ]
    }
   ],
   "source": [
    "test_out_file = 'outputs/project_out_video.mp4'\n",
    "test_clip = VideoFileClip('inputs/project_video.mp4')\n",
    "combined_image = test_clip.fl_image(pipeline)\n",
    "%time combined_image.write_videofile(test_out_file, audio=False)"
   ]
  },
  {
   "cell_type": "code",
   "execution_count": 12,
   "metadata": {},
   "outputs": [
    {
     "data": {
      "text/html": [
       "\n",
       "<video width=\"960\" height=\"540\" controls>\n",
       "  <source src=\"outputs/project_out_video.mp4\">\n",
       "</video>\n"
      ],
      "text/plain": [
       "<IPython.core.display.HTML object>"
      ]
     },
     "execution_count": 12,
     "metadata": {},
     "output_type": "execute_result"
    }
   ],
   "source": [
    "HTML(\"\"\"\n",
    "<video width=\"960\" height=\"540\" controls>\n",
    "  <source src=\"{0}\">\n",
    "</video>\n",
    "\"\"\".format(test_out_file))"
   ]
  },
  {
   "cell_type": "code",
   "execution_count": null,
   "metadata": {},
   "outputs": [],
   "source": []
  }
 ],
 "metadata": {
  "kernelspec": {
   "display_name": "Python 3",
   "language": "python",
   "name": "python3"
  },
  "language_info": {
   "codemirror_mode": {
    "name": "ipython",
    "version": 3
   },
   "file_extension": ".py",
   "mimetype": "text/x-python",
   "name": "python",
   "nbconvert_exporter": "python",
   "pygments_lexer": "ipython3",
   "version": "3.7.7"
  }
 },
 "nbformat": 4,
 "nbformat_minor": 4
}

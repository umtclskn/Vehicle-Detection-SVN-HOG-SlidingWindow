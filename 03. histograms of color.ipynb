{
 "cells": [
  {
   "cell_type": "code",
   "execution_count": 1,
   "metadata": {},
   "outputs": [],
   "source": [
    "import matplotlib.image as mpimg\n",
    "import numpy as np\n",
    "import matplotlib.pyplot as plt\n",
    "from utils.extract_color_hist_feature import get_color_hist_feature\n",
    "\n",
    "\n",
    "# Read in the image\n",
    "image = mpimg.imread('templates/temp1.jpg')\n",
    "\n",
    "# Take histograms in R, G, and B\n",
    "rhist = np.histogram(image[:,:,0], bins=32, range=(0, 256))\n",
    "ghist = np.histogram(image[:,:,1], bins=32, range=(0, 256))\n",
    "bhist = np.histogram(image[:,:,2], bins=32, range=(0, 256))"
   ]
  },
  {
   "cell_type": "code",
   "execution_count": 3,
   "metadata": {},
   "outputs": [
    {
     "data": {
      "image/png": "[encoded data removed]",
      "text/plain": [
       "<Figure size 864x216 with 3 Axes>"
      ]
     },
     "metadata": {
      "needs_background": "light"
     },
     "output_type": "display_data"
    }
   ],
   "source": [
    "\n",
    "    \n",
    "rh, gh, bh, bincen, feature_vec = get_color_hist_feature(image, nbins=32, bins_range=(0, 256))\n",
    "\n",
    "# Plot a figure with all three bar charts\n",
    "if rh is not None:\n",
    "    fig = plt.figure(figsize=(12,3))\n",
    "    plt.subplot(131)\n",
    "    plt.bar(bincen, rh[0])\n",
    "    plt.xlim(0, 256)\n",
    "    plt.title('R Histogram')\n",
    "    plt.subplot(132)\n",
    "    plt.bar(bincen, gh[0])\n",
    "    plt.xlim(0, 256)\n",
    "    plt.title('G Histogram')\n",
    "    plt.subplot(133)\n",
    "    plt.bar(bincen, bh[0])\n",
    "    plt.xlim(0, 256)\n",
    "    plt.title('B Histogram')\n",
    "    fig.tight_layout()\n",
    "else:\n",
    "    print('Your function is returning None for at least one variable...')"
   ]
  },
  {
   "cell_type": "code",
   "execution_count": 6,
   "metadata": {},
   "outputs": [
    {
     "data": {
      "text/plain": [
       "array([ 5494, 31781, 28871, 12085,  8896,  6075,  5111,  4294,  5473,\n",
       "        5433,  5045,  2785,  2959,  2396,  1809,  1843,  2149,  1681,\n",
       "        1024,   810,  1387,  1245,  1552,   720,   446,   278,   189,\n",
       "          96,    51,    43,    51,    70,   769,  2559, 30936, 25143,\n",
       "       15651, 10557,  7421,  5386,  4176,  4363,  5702,  4825,  2840,\n",
       "        2383,  2702,  2896,  2957,  2132,  1360,   741,   898,  1554,\n",
       "        1609,  1138,   537,   324,   213,   125,    72,    55,    42,\n",
       "          76,   702, 10670, 30772, 17130, 12571, 10847,  9151,  5934,\n",
       "        4405,  5082,  5131,  3694,  3240,  2635,  3236,  3858,  2901,\n",
       "        1864,  1053,  1309,  1730,  1583,   946,   601,   402,   222,\n",
       "         138,    89,    70,    47,    25,   104], dtype=int64)"
      ]
     },
     "execution_count": 6,
     "metadata": {},
     "output_type": "execute_result"
    }
   ],
   "source": [
    "feature_vec.ravel()"
   ]
  },
  {
   "cell_type": "code",
   "execution_count": null,
   "metadata": {},
   "outputs": [],
   "source": []
  }
 ],
 "metadata": {
  "kernelspec": {
   "display_name": "Python 3",
   "language": "python",
   "name": "python3"
  },
  "language_info": {
   "codemirror_mode": {
    "name": "ipython",
    "version": 3
   },
   "file_extension": ".py",
   "mimetype": "text/x-python",
   "name": "python",
   "nbconvert_exporter": "python",
   "pygments_lexer": "ipython3",
   "version": "3.7.7"
  }
 },
 "nbformat": 4,
 "nbformat_minor": 4
}
